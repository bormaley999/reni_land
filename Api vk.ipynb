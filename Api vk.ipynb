{
 "cells": [
  {
   "cell_type": "markdown",
   "metadata": {},
   "source": [
    "## Введение в  API\n",
    "\n",
    "Аббревиатура API расшифровывается как Application Programming Interface, или интерфейс для программирования приложений.\n",
    "\n",
    "Интерфейс, который позволяет разработчикам использовать готовые блоки для построения приложения.\n",
    "\n",
    "В случае веб-приложений, API может отдавать данные в отличном от стандартного HTML формате, благодаря чему им удобно пользоваться при написании собственных приложений. \n",
    "\n",
    "Сторонние общедоступные API чаще всего отдают данные в одном из двух форматов: XML или JSON. "
   ]
  },
  {
   "cell_type": "markdown",
   "metadata": {},
   "source": [
    "API ВКонтакте — это интерфейс, который позволяет получать информацию из базы данных vk.com с помощью http-запросов к специальному серверу.\n",
    "\n",
    "Вам не нужно знать в подробностях, как устроена база, из каких таблиц и полей каких типов она состоит — достаточно того, что API-запрос об этом «знает». \n",
    "\n",
    "Синтаксис запросов и тип возвращаемых ими данных строго определены на стороне самого сервиса. \n",
    "\n",
    "**Методы**\n",
    "https://vk.com/dev.php?method=first_guide\n",
    "\n",
    "**Версии** \n",
    "https://vk.com/dev/versions\n"
   ]
  },
  {
   "cell_type": "markdown",
   "metadata": {},
   "source": [
    "### Регистрация приложения и получение токена\n",
    "\n",
    "Альтернативные инструкции\n",
    "\n",
    "https://devman.org/qna/63/kak-poluchit-token-polzovatelja-dlja-vkontakte/\n",
    "\n",
    "https://www.youtube.com/watch?v=JJHtltJPAt0&t=367s\n",
    "\n",
    "1) Нажимаете на кнопку создать приложение\n",
    "\n",
    "2) Выбираете standalone приложение, указываете название приложения\n",
    "\n",
    "![](https://sun9-60.userapi.com/c857736/v857736671/14acdc/66pnWpKHRmM.jpg)\n",
    "\n",
    "3) Переходите в настройки, включаете Open API\n",
    "\n",
    "4) В поле *адрес сайта* вводите http://localhost\n",
    "\n",
    "5) В поле базовый домен вводите localhost\n",
    "\n",
    "![](https://sun9-4.userapi.com/c857736/v857736671/14acee/6qdLYkpdBl4.jpg)\n",
    "\n",
    "6) Сохраняете изменения\n",
    "\n",
    "7) Копируете id приложения \n",
    "\n",
    "8) В ссылку \n",
    "\n",
    "https://oauth.vk.com/authorize?client_id=1&display=page&scope=stats,offline&response_type=token&v=5.103&state=123456\n",
    "\n",
    "вместо 1 вставьте **ваш** client_id\n",
    "\n",
    "9) Нажимаете разрешить\n",
    "\n",
    "10) Сохраняете токен\n",
    "\n",
    "![](https://sun9-29.userapi.com/c857736/v857736671/14acf8/2c-F9g7w0jA.jpg)\n"
   ]
  },
  {
   "cell_type": "markdown",
   "metadata": {},
   "source": [
    "Документация requests\n",
    "\n",
    "https://requests.readthedocs.io/en/master/"
   ]
  },
  {
   "cell_type": "code",
   "execution_count": null,
   "metadata": {},
   "outputs": [
    {
     "data": {
      "text/plain": [
       "{'response': [{'id': 210700286,\n",
       "   'first_name': 'Lindsey',\n",
       "   'last_name': 'Stirling'}]}"
      ]
     },
     "execution_count": 1,
     "metadata": {},
     "output_type": "execute_result"
    }
   ],
   "source": [
    "import requests\n",
    "token = '37c64779ed9e2bde397df36f5f6d344ea39d69651b1fbc0a3969e967551375a63dda666707434250801eb'\n",
    "\n",
    "r = requests.get('https://api.vk.com/method/users.get?user_id=210700286&v=5.52',  params = {'access_token':token})\n",
    "\n",
    "r.json() \n",
    "\n"
   ]
  },
  {
   "cell_type": "markdown",
   "metadata": {},
   "source": [
    "## JSON\n",
    "\n",
    "JSON - текстовый формат данных, следующий за синтаксисом объекта JavaScript, который был популяризирован Дугласом Крокфордом. Несмотря на то, что он очень похож на буквенный синтаксис объекта JavaScript, его можно использовать независимо от JavaScript, и многие среды программирования имеют возможность читать (анализировать) и генерировать JSON.\n",
    "\n",
    "При работе с модулем requests в нашем репертуаре имеется метод json(), который преобразует объект response в объект класса dict. \n",
    "\n",
    "Подробнее: https://python-scripts.com/json"
   ]
  },
  {
   "cell_type": "markdown",
   "metadata": {},
   "source": [
    "### Протокол HTTP\n",
    "\n",
    "Взаимодействие между клиентом и сервером происходит с помощью протогкола http\n",
    "\n",
    "\n",
    "Протокол передачи гипертекста (Hypertext Transfer Protocol - HTTP) - это прикладной протокол для передачи гипертекстовых документов, таких как HTML. \n",
    "\n",
    "Он создан для связи между веб-браузерами и веб-серверами, хотя в принципе HTTP может использоваться и для других целей. \n",
    "\n",
    "Протокол следует классической клиент-серверной модели, когда клиент открывает соединение для создания запроса, а затем ждет ответа. \n",
    "\n",
    "HTTP - это протокол без сохранения состояния, то есть сервер не сохраняет никаких данных (состояние) между двумя парами \"запрос-ответ\"."
   ]
  },
  {
   "cell_type": "markdown",
   "metadata": {},
   "source": [
    "### Методы запросов\n",
    "\n",
    "HTTP методы\n",
    "\n",
    "Для того, чтобы указать серверу на то, какое действие мы хотим произвести с ресурсом, используется тип HTTP-запроса, который также называется HTTP метод. Существует несколько HTTP методов, которые описывают действия с ресурсами. Наиболее часто используемыми являются GET и POST. \n",
    "\n",
    "### GET — получение ресурса\n",
    "\n",
    "Метод GET запрашивает информацию из указанного источника и не влияет на его содержимое. Запрос доступен для кеширования данных и добавления в закладки. Длина запроса ограничена (макс. длина URL - 2048).\n",
    "\n",
    "Примечание: Строка запроса (имя/значение) отправляется в URL \n",
    "\n",
    "``/login-check.php?argument1=value1&argument2=value2``\n",
    "\n",
    "### POST — создание ресурса\n",
    "\n",
    "Метод POST используется для отправки данных, что может оказывать влияние на содержимое ресурса. В отличие от метода GET запросы POST не могут быть кешированы, они не остаются в истории браузера и их нельзя добавить в закладки. Запросы POST не ограничиваются в объеме.\n",
    "\n",
    "Примечание: Отправляемые данные содержатся в теле запроса. \n",
    "\n",
    "https://developer.mozilla.org/ru/docs/Web/HTTP/Methods"
   ]
  },
  {
   "cell_type": "markdown",
   "metadata": {},
   "source": [
    "https://vk.com/dev/api_limitation_2019"
   ]
  },
  {
   "cell_type": "code",
   "execution_count": null,
   "metadata": {
    "scrolled": true
   },
   "outputs": [],
   "source": [
    "def get_by_query():\n",
    "    \"\"\"\t\n",
    "    Параметры sort\n",
    "    0 — сортировать по умолчанию (аналогично результатам поиска в полной версии сайта);\n",
    "    1 — сортировать по скорости роста;\n",
    "    2 — сортировать по отношению дневной посещаемости к количеству пользователей;\n",
    "    3 — сортировать по отношению количества лайков к количеству пользователей;\n",
    "    4 — сортировать по отношению количества комментариев к количеству пользователей;\n",
    "    5 — сортировать по отношению количества записей в обсуждениях к количеству пользователей.\n",
    "    \"\"\"\n",
    "    query = input('Введите поисковый запрос: ')\n",
    "    req = requests.get('https://api.vk.com/method/groups.search', \n",
    "            params = {'access_token':token, \n",
    "                      'v':'5.73', 'q':str(query), 'count':2, 'sort':0}).json()['response']\n",
    "    \n",
    "    groups = [req['items'][i]['id'] for i in range(len(req['items']))]\n",
    "    return groups\n",
    "\n",
    "\n",
    "result = get_by_query()"
   ]
  },
  {
   "cell_type": "code",
   "execution_count": null,
   "metadata": {},
   "outputs": [],
   "source": [
    "def string_checher(obj):\n",
    "    if isinstance(obj, str):\n",
    "        return obj\n",
    "    elif  isinstance(obj, list):\n",
    "        return ','.join((str(x) for x in obj))\n",
    "\n",
    "req = requests.get('https://api.vk.com/method/groups.getById', \n",
    "        params = {'access_token':token, \n",
    "                  'v':'5.73', 'fields': 'members_count,activity', 'group_ids': string_checher(result)})\n",
    "\n",
    "req.json()"
   ]
  },
  {
   "cell_type": "code",
   "execution_count": null,
   "metadata": {},
   "outputs": [],
   "source": [
    "response = req.json()['response']\n",
    "\n",
    "def get_info(elem):\n",
    "    \n",
    "    groupId = elem['id']\n",
    "    name = elem['name']\n",
    "    members_count = elem['members_count']\n",
    "    activity = elem['activity']\n",
    "    \n",
    "    return (groupId, name, members_count, activity)\n",
    "    \n",
    "data = list(zip(*map(get_info, response)))\n",
    "len(data)"
   ]
  },
  {
   "cell_type": "code",
   "execution_count": null,
   "metadata": {},
   "outputs": [],
   "source": [
    "#https://datascience.stackexchange.com/questions/26333/convert-a-list-of-lists-into-a-pandas-dataframe\n",
    "import pandas as pd\n",
    "df = pd.DataFrame.from_records(data).transpose()\n",
    "df.columns = [\"groupId\", \"name\", \"members_count\", \"activity\"]\n",
    "groupIds = df['groupId'].tolist()"
   ]
  },
  {
   "cell_type": "code",
   "execution_count": null,
   "metadata": {},
   "outputs": [],
   "source": [
    "#https://vk.com/dev/groups.getMembers\n",
    "req = requests.get('https://api.vk.com/method/groups.getMembers', \n",
    "        params = {'access_token':token, \n",
    "                  'v':'5.73', 'fields': 'sex, bdate, city', 'group_id': 174948538})\n",
    "\n",
    "req.json()\n"
   ]
  },
  {
   "cell_type": "code",
   "execution_count": null,
   "metadata": {},
   "outputs": [],
   "source": [
    "len(req.json()['response']['items'])"
   ]
  },
  {
   "cell_type": "markdown",
   "metadata": {},
   "source": [
    "Применим цикл, чтобы получить все данные\n",
    "\n",
    "Для этого нам нужны поля **count** и **offset**\n",
    "\n",
    "offset - смещение, необходимое для выборки определенного подмножества участников. По умолчанию 0. "
   ]
  },
  {
   "cell_type": "code",
   "execution_count": null,
   "metadata": {
    "scrolled": true
   },
   "outputs": [],
   "source": [
    "step = 1000 #объявляем переменную шага и задаем ей значение 1000. Это нужно на случай, если придется уменьшить количество запросов\n",
    "\n",
    "#отправляем первый запрос к api, по сути ради того, чтобы узнать длину массива\n",
    "req = requests.get('https://api.vk.com/method/groups.getMembers', \n",
    "        params = {'access_token':token, \n",
    "                  'v':'5.73', 'fields': 'sex, bdate, city', 'group_id': 174948538})\n",
    "\n",
    "count = req.json()['response']['count'] \n",
    "items = []\n",
    "\n",
    "for offset in range(0, count, step):\n",
    "    req = requests.get('https://api.vk.com/method/groups.getMembers', \n",
    "        params = {'access_token':token, \n",
    "                  'v':'5.73', 'fields': 'sex, bdate, city', \n",
    "                  'count': step, 'offset': offset, 'group_id': '174948538'})\n",
    "    items.extend(req.json()['response']['items'])\n",
    "    \n",
    "print(items)\n",
    "\n",
    "#https://www.geeksforgeeks.org/append-extend-python/"
   ]
  },
  {
   "cell_type": "code",
   "execution_count": null,
   "metadata": {},
   "outputs": [],
   "source": [
    "def get_title(elem):\n",
    "    try:\n",
    "        title = elem['city']['title']\n",
    "    except:\n",
    "        title = None \n",
    "    return title"
   ]
  },
  {
   "cell_type": "code",
   "execution_count": null,
   "metadata": {
    "scrolled": true
   },
   "outputs": [],
   "source": [
    "list(map(get_title, items))"
   ]
  },
  {
   "cell_type": "code",
   "execution_count": null,
   "metadata": {},
   "outputs": [],
   "source": [
    "df = pd.DataFrame.from_records(items)\n",
    "df['city'] = list(map(get_title, items))\n",
    "df"
   ]
  },
  {
   "cell_type": "code",
   "execution_count": null,
   "metadata": {},
   "outputs": [],
   "source": [
    "req = requests.get('https://api.vk.com/method/wall.get', \n",
    "        params = {'owner_id': -42565717, 'access_token':token, \n",
    "                  'v':'5.73', 'fields': 'likes', 'group_id': 174948538})\n",
    "\n",
    "req.json()\n",
    "\n"
   ]
  },
  {
   "cell_type": "markdown",
   "metadata": {},
   "source": [
    "### Хранимые процедуры\n",
    "\n",
    "Позволяют многократно увеличивать количество запросов, которые можно отправить к API VK\n",
    "\n",
    "https://vk.com/dev/execute\n",
    "\n",
    "https://vk.com/faq4155\n",
    "\n",
    "код алгоритма в VKScript - формате, похожем на JavaSсript или ActionScript (предполагается совместимость с ECMAScript). Алгоритм должен завершаться командой return %выражение%. Операторы должны быть разделены точкой с запятой. \n",
    "\n",
    "Позволяет создавать значительно более мощные программы, засчет возможности использования нескольких методов одновременно при многократном увеличении выдаваемого сервером объема данных. \n",
    "\n"
   ]
  },
  {
   "cell_type": "markdown",
   "metadata": {},
   "source": [
    "<code>\n",
    "var members = API.groups.getMembers(\n",
    "{\"group_id\":(Args.group_id),\n",
    "\"count\":\"1000\",\n",
    "\"offset\":(parseInt(Args.offset)),\n",
    "\"v\":\"5.53\"});\n",
    "var members_cnt = members.count;\n",
    "members = members.items;\n",
    "var offset_members = parseInt(Args.offset) + 1000;\n",
    "while(offset_members < parseInt(Args.count))\n",
    "    {members = members + API.groups.getMembers(\n",
    "        {\"group_id\":(Args.group_id),\n",
    "        \"offset\":(offset_members),\n",
    "        \"count\":\"1000\",\n",
    "        \"v\":\"5.53\"}\n",
    "    ).items;\n",
    "offset_members = offset_members + 1000;};\n",
    "\n",
    "return[members_cnt, members];\n",
    "</code>"
   ]
  },
  {
   "cell_type": "code",
   "execution_count": null,
   "metadata": {},
   "outputs": [],
   "source": [
    "owner_id = 51370544\n",
    "\n",
    "items = []\n",
    "\n",
    "def get_members(owner_id):\n",
    "    from collections import defaultdict\n",
    "    s = defaultdict(list)\n",
    "    r = requests.post('https://api.vk.com/method/execute.grpFull?group_id='+\n",
    "                      str(owner_id)+'&offset='+str(0)+'&v='+'5.73'+'&count='+str(5000)\n",
    "                      +'&access_token='+token).json()['response']\n",
    "\n",
    "    members_count = r[0] #количество участников\n",
    "    print('В сообществе', owner_id, 'участников :',members_count)\n",
    "    items.extend(r[1])\n",
    "    \n",
    "    if members_count>5000:\n",
    "        for offset in range(5000, members_count, 5000):\n",
    "            try:\n",
    "                count = offset + 5000\n",
    "                r = requests.post('https://api.vk.com/method/execute.grpFull?group_id='+\n",
    "                                 str(owner_id)+'&offset='+str(offset)+'&v='+'5.73'+'&count='+\n",
    "                                 str(count)+'&access_token='+token).json()['response']\n",
    "                items.extend(r[1])\n",
    "            except Exception:\n",
    "                pass\n",
    "            \n",
    "    return items\n",
    "\n",
    "both = list(map(get_members, groupIds))"
   ]
  },
  {
   "cell_type": "code",
   "execution_count": null,
   "metadata": {},
   "outputs": [],
   "source": [
    "def intersection(lst1, lst2): \n",
    "    return list(set(lst1) & set(lst2)) \n",
    "\n",
    "print(len(intersection(both[0], both[1])))"
   ]
  },
  {
   "cell_type": "markdown",
   "metadata": {},
   "source": [
    "Библиотеки для работы с API  Vk\n",
    "\n",
    "https://vk-api.readthedocs.io/en/latest/\n",
    "\n",
    "https://github.com/python273/vk_api\n",
    "\n",
    "https://pypi.org/project/vk-api/\n",
    "\n",
    "https://habr.com/ru/post/319178/"
   ]
  }
 ],
 "metadata": {
  "kernelspec": {
   "display_name": "Python 3",
   "language": "python",
   "name": "python3"
  },
  "language_info": {
   "codemirror_mode": {
    "name": "ipython",
    "version": 3
   },
   "file_extension": ".py",
   "mimetype": "text/x-python",
   "name": "python",
   "nbconvert_exporter": "python",
   "pygments_lexer": "ipython3",
   "version": "3.7.4"
  }
 },
 "nbformat": 4,
 "nbformat_minor": 2
}
